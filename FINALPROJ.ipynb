{
 "cells": [
  {
   "cell_type": "markdown",
   "metadata": {},
   "source": [
    "## Big Ideas - Final Project\n",
    "\n",
    "### Group - Joffin Manjaly and Varun Venkatesh\n",
    "\n",
    "### Introduction\n",
    "Our objective was to determine the best neighborhood in Pittsburgh using our own measures of “best” and open datasets taken from WPRDC. We considered many metrics such as convenience and education, but after some thought, we chose the metric of health to determine the best neighborhood to live in. We weighed our health important because to live long, happy, and successful lives, we want to stay healthy. We broke health down into safety, greenery, and populousness as the sub-metrics that we found datasets to support our conclusions. We also considered many different datasets to satisfy these metrics, but ultimately, the datasets that we used to score the neighborhoods based on the metrics mentioned were “Pittsburgh Police Arrest Data” for safety, “City of Pittsburgh Trees” for greenery, and “Pittsburgh SNAP Census Data” for populousness. All datasets were provided by the City of Pittsburgh.\n",
    "\n",
    "### The Metrics\n",
    "We chose the metric of safety because we all want to feel safe in our neighborhoods. Neighborhoods with numerous quarrels can be dangerous and injurious to our health both physically and mentally. Even if you aren’t physically harmed in a situation, being part of or even viewing altercation that gets serious can be traumatic and cause health problems in the future. We used the “Pittsburgh Police Arrest Data” to measure safety in the neighborhoods. This dataset gives us the number of arrests and where those arrests were made in the neighborhoods of Pittsburgh. We assume the more arrests in a given neighborhood mean the more altercations in that neighborhood deeming it less safe.\n",
    "\n",
    "We chose the metric of greenery because it improves upon the health of the environment which also correlates to our own health. Neighborhoods with more plants and green spaces help decrease pollution and better the environment, especially in more urban areas. We used the “City of Pittsburgh Trees” to measure greenery in the neighborhoods. We used this dataset to determine the number of trees in a given neighborhood. The more trees in a neighborhood mean the greener the neighborhood is.\n",
    "\n",
    "We chose the metric of populousness mainly to react to the recent global pandemic of COVID-19. As we can see based on current statistics, more populous areas, such as NYC, have significantly more infected people. In more populated areas, there are more people interactions, making people more susceptible to diseases and sickness. And obviously, the sicker you are, the less healthy you are. We used the “Pittsburgh SNAP CensusData” to measure populousness in the neighborhoods. This dataset provided us with the population per square mile or the population density in each neighborhood within Pittsburgh. The higher the population density meant the neighborhood was more populous, which ultimately was deemed less healthy based on our findings.\n",
    "\n",
    "### The Process\n",
    "\n",
    "Part 1 - Reading in the data files and importing them into DataFrames\n"
   ]
  },
  {
   "cell_type": "code",
   "execution_count": 1,
   "metadata": {},
   "outputs": [],
   "source": [
    "# importing all the required libraries\n",
    "import pandas as pd\n",
    "import numpy as np\n",
    "%matplotlib inline\n",
    "import matplotlib.pyplot as plt"
   ]
  },
  {
   "cell_type": "markdown",
   "metadata": {},
   "source": [
    "So, we are going to import the crime data into a frame, filter the given data(45,000 datapoints) into our very versatile dictionary and back into a dataframe"
   ]
  },
  {
   "cell_type": "code",
   "execution_count": 4,
   "metadata": {},
   "outputs": [
    {
     "data": {
      "text/html": [
       "<div>\n",
       "<style scoped>\n",
       "    .dataframe tbody tr th:only-of-type {\n",
       "        vertical-align: middle;\n",
       "    }\n",
       "\n",
       "    .dataframe tbody tr th {\n",
       "        vertical-align: top;\n",
       "    }\n",
       "\n",
       "    .dataframe thead th {\n",
       "        text-align: right;\n",
       "    }\n",
       "</style>\n",
       "<table border=\"1\" class=\"dataframe\">\n",
       "  <thead>\n",
       "    <tr style=\"text-align: right;\">\n",
       "      <th></th>\n",
       "      <th>Neighborhood</th>\n",
       "      <th>Number of Crimes</th>\n",
       "    </tr>\n",
       "  </thead>\n",
       "  <tbody>\n",
       "    <tr>\n",
       "      <th>1</th>\n",
       "      <td>Mt. Oliver Neighborhood</td>\n",
       "      <td>2</td>\n",
       "    </tr>\n",
       "    <tr>\n",
       "      <th>2</th>\n",
       "      <td>Troy Hill-Herrs Island</td>\n",
       "      <td>6</td>\n",
       "    </tr>\n",
       "    <tr>\n",
       "      <th>3</th>\n",
       "      <td>Mt. Oliver Boro</td>\n",
       "      <td>14</td>\n",
       "    </tr>\n",
       "    <tr>\n",
       "      <th>4</th>\n",
       "      <td>Ridgemont</td>\n",
       "      <td>15</td>\n",
       "    </tr>\n",
       "    <tr>\n",
       "      <th>5</th>\n",
       "      <td>Regent Square</td>\n",
       "      <td>21</td>\n",
       "    </tr>\n",
       "    <tr>\n",
       "      <th>...</th>\n",
       "      <td>...</td>\n",
       "      <td>...</td>\n",
       "    </tr>\n",
       "    <tr>\n",
       "      <th>95</th>\n",
       "      <td>East Allegheny</td>\n",
       "      <td>1400</td>\n",
       "    </tr>\n",
       "    <tr>\n",
       "      <th>96</th>\n",
       "      <td>Carrick</td>\n",
       "      <td>1484</td>\n",
       "    </tr>\n",
       "    <tr>\n",
       "      <th>97</th>\n",
       "      <td>NaN</td>\n",
       "      <td>1509</td>\n",
       "    </tr>\n",
       "    <tr>\n",
       "      <th>98</th>\n",
       "      <td>South Side Flats</td>\n",
       "      <td>2149</td>\n",
       "    </tr>\n",
       "    <tr>\n",
       "      <th>99</th>\n",
       "      <td>Central Business District</td>\n",
       "      <td>2396</td>\n",
       "    </tr>\n",
       "  </tbody>\n",
       "</table>\n",
       "<p>99 rows × 2 columns</p>\n",
       "</div>"
      ],
      "text/plain": [
       "                 Neighborhood  Number of Crimes\n",
       "1     Mt. Oliver Neighborhood                 2\n",
       "2      Troy Hill-Herrs Island                 6\n",
       "3             Mt. Oliver Boro                14\n",
       "4                   Ridgemont                15\n",
       "5               Regent Square                21\n",
       "..                        ...               ...\n",
       "95             East Allegheny              1400\n",
       "96                    Carrick              1484\n",
       "97                        NaN              1509\n",
       "98           South Side Flats              2149\n",
       "99  Central Business District              2396\n",
       "\n",
       "[99 rows x 2 columns]"
      ]
     },
     "execution_count": 4,
     "metadata": {},
     "output_type": "execute_result"
    }
   ],
   "source": [
    "# importing the Crime Data \n",
    "crime_data = pd.read_csv('CrimeData.csv')\n",
    "neighborhoods = {}\n",
    "for neigh in crime_data['INCIDENTNEIGHBORHOOD'] :\n",
    "    if neigh not in neighborhoods:\n",
    "        neighborhoods[neigh] = 1\n",
    "    else:\n",
    "        neighborhoods[neigh] +=1\n",
    "\n",
    "crime_df = pd.DataFrame(list(neighborhoods.items()), columns=['Neighborhood', 'Number of Crimes'])\n",
    "crime_df = crime_df.sort_values(by='Number of Crimes')\n",
    "# fixing the indexes\n",
    "crime_df.reset_index(inplace = True)\n",
    "crime_df.drop(columns='index')\n",
    "crime_df.index += 1\n",
    "crime_df.reindex()\n",
    "crime_df =crime_df.drop(columns='index')\n",
    "crime_df"
   ]
  },
  {
   "cell_type": "markdown",
   "metadata": {},
   "source": [
    "Now, we are going to visualize this data! We have the data sorted by ascending crime rates, and we are going to show the top 15 and the bottom 15 neighborhoods"
   ]
  },
  {
   "cell_type": "code",
   "execution_count": 36,
   "metadata": {},
   "outputs": [
    {
     "data": {
      "text/plain": [
       "<matplotlib.axes._subplots.AxesSubplot at 0x7f83ba5787b8>"
      ]
     },
     "execution_count": 36,
     "metadata": {},
     "output_type": "execute_result"
    },
    {
     "data": {
      "image/png": "[encoded data removed]",
      "text/plain": [
       "<Figure size 432x288 with 1 Axes>"
      ]
     },
     "metadata": {
      "needs_background": "light"
     },
     "output_type": "display_data"
    },
    {
     "data": {
      "image/png": "[encoded data removed]",
      "text/plain": [
       "<Figure size 432x288 with 1 Axes>"
      ]
     },
     "metadata": {
      "needs_background": "light"
     },
     "output_type": "display_data"
    }
   ],
   "source": [
    "crime_df.head(15).plot(kind='bar', x='Neighborhood', y='Number of Crimes')\n",
    "crime_df.tail(15).plot(kind='bar', x='Neighborhood', y='Number of Crimes')"
   ]
  },
  {
   "cell_type": "markdown",
   "metadata": {},
   "source": [
    "We're done with crime data, for now at least. Now we move on to gathering our tree data and putting it in a dataframe after cleaning it up and filtering it."
   ]
  },
  {
   "cell_type": "code",
   "execution_count": 17,
   "metadata": {},
   "outputs": [
    {
     "data": {
      "text/html": [
       "<div>\n",
       "<style scoped>\n",
       "    .dataframe tbody tr th:only-of-type {\n",
       "        vertical-align: middle;\n",
       "    }\n",
       "\n",
       "    .dataframe tbody tr th {\n",
       "        vertical-align: top;\n",
       "    }\n",
       "\n",
       "    .dataframe thead th {\n",
       "        text-align: right;\n",
       "    }\n",
       "</style>\n",
       "<table border=\"1\" class=\"dataframe\">\n",
       "  <thead>\n",
       "    <tr style=\"text-align: right;\">\n",
       "      <th></th>\n",
       "      <th>neighborhoods</th>\n",
       "      <th>numberTrees</th>\n",
       "    </tr>\n",
       "  </thead>\n",
       "  <tbody>\n",
       "    <tr>\n",
       "      <th>1</th>\n",
       "      <td>Squirrel Hill South</td>\n",
       "      <td>5073</td>\n",
       "    </tr>\n",
       "    <tr>\n",
       "      <th>2</th>\n",
       "      <td>Highland Park</td>\n",
       "      <td>2941</td>\n",
       "    </tr>\n",
       "    <tr>\n",
       "      <th>3</th>\n",
       "      <td>Squirrel Hill North</td>\n",
       "      <td>2079</td>\n",
       "    </tr>\n",
       "    <tr>\n",
       "      <th>4</th>\n",
       "      <td>South Side Flats</td>\n",
       "      <td>1693</td>\n",
       "    </tr>\n",
       "    <tr>\n",
       "      <th>5</th>\n",
       "      <td>Shadyside</td>\n",
       "      <td>1558</td>\n",
       "    </tr>\n",
       "    <tr>\n",
       "      <th>...</th>\n",
       "      <td>...</td>\n",
       "      <td>...</td>\n",
       "    </tr>\n",
       "    <tr>\n",
       "      <th>87</th>\n",
       "      <td>Arlington Heights</td>\n",
       "      <td>5</td>\n",
       "    </tr>\n",
       "    <tr>\n",
       "      <th>88</th>\n",
       "      <td>Esplen</td>\n",
       "      <td>3</td>\n",
       "    </tr>\n",
       "    <tr>\n",
       "      <th>89</th>\n",
       "      <td>South Shore</td>\n",
       "      <td>2</td>\n",
       "    </tr>\n",
       "    <tr>\n",
       "      <th>90</th>\n",
       "      <td>Glen Hazel</td>\n",
       "      <td>2</td>\n",
       "    </tr>\n",
       "    <tr>\n",
       "      <th>91</th>\n",
       "      <td>Hays</td>\n",
       "      <td>1</td>\n",
       "    </tr>\n",
       "  </tbody>\n",
       "</table>\n",
       "<p>91 rows × 2 columns</p>\n",
       "</div>"
      ],
      "text/plain": [
       "          neighborhoods  numberTrees\n",
       "1   Squirrel Hill South         5073\n",
       "2         Highland Park         2941\n",
       "3   Squirrel Hill North         2079\n",
       "4      South Side Flats         1693\n",
       "5             Shadyside         1558\n",
       "..                  ...          ...\n",
       "87    Arlington Heights            5\n",
       "88               Esplen            3\n",
       "89          South Shore            2\n",
       "90           Glen Hazel            2\n",
       "91                 Hays            1\n",
       "\n",
       "[91 rows x 2 columns]"
      ]
     },
     "execution_count": 17,
     "metadata": {},
     "output_type": "execute_result"
    }
   ],
   "source": [
    "# reading in tree data\n",
    "tree = pd.read_csv(\"trees.csv\", sep=\",\")\n",
    "neighborhoods = []\n",
    "numTrees = []\n",
    "dict = {}\n",
    "for each in tree['neighborhood'].unique():\n",
    "    neighborhoods.append(each)\n",
    "for index, row in tree.iterrows():\n",
    "    if(row['neighborhood'] not in dict.keys()):\n",
    "        dict[row['neighborhood']] = 1\n",
    "    else:\n",
    "        dict[row['neighborhood']] += 1\n",
    "for neighbor in dict:\n",
    "    numTrees.append(dict[neighbor])\n",
    "dict2 = {}\n",
    "dict2[\"neighborhoods\"] = neighborhoods\n",
    "dict2[\"numberTrees\"] = numTrees\n",
    "trees_df = pd.DataFrame(dict2)\n",
    "trees_df = trees_df.sort_values(by='numberTrees', ascending=False)\n",
    "# fixing indexes\n",
    "trees_df = trees_df.reset_index()\n",
    "trees_df.index += 1\n",
    "trees_df = trees_df.drop(columns = [\"index\"])\n",
    "trees_df"
   ]
  },
  {
   "cell_type": "markdown",
   "metadata": {},
   "source": [
    "Now, we are going to visualize this. This data is visualized in descending order, because we love green space. The top 15 and bottom 15 neighborhoods for this metric are shown below."
   ]
  },
  {
   "cell_type": "code",
   "execution_count": 38,
   "metadata": {},
   "outputs": [
    {
     "data": {
      "text/plain": [
       "<matplotlib.axes._subplots.AxesSubplot at 0x7f83b2800d68>"
      ]
     },
     "execution_count": 38,
     "metadata": {},
     "output_type": "execute_result"
    },
    {
     "data": {
      "image/png": "[encoded data removed]",
      "text/plain": [
       "<Figure size 432x288 with 1 Axes>"
      ]
     },
     "metadata": {
      "needs_background": "light"
     },
     "output_type": "display_data"
    },
    {
     "data": {
      "image/png": "[encoded data removed]",
      "text/plain": [
       "<Figure size 432x288 with 1 Axes>"
      ]
     },
     "metadata": {
      "needs_background": "light"
     },
     "output_type": "display_data"
    }
   ],
   "source": [
    "trees_df.head(15).plot(kind = \"bar\", x = \"neighborhoods\", y = \"numberTrees\")\n",
    "trees_df.tail(15).plot(kind = \"bar\", x = \"neighborhoods\", y = \"numberTrees\")"
   ]
  },
  {
   "cell_type": "markdown",
   "metadata": {},
   "source": [
    "Now, we move on to our third metric - Populousness! We are organizing this data in ascending order, because we want our ideal neighborhood to act as a safety net to any potential threats of diseases and so on. So, lowest population density to highest.\n"
   ]
  },
  {
   "cell_type": "code",
   "execution_count": 18,
   "metadata": {},
   "outputs": [
    {
     "data": {
      "text/html": [
       "<div>\n",
       "<style scoped>\n",
       "    .dataframe tbody tr th:only-of-type {\n",
       "        vertical-align: middle;\n",
       "    }\n",
       "\n",
       "    .dataframe tbody tr th {\n",
       "        vertical-align: top;\n",
       "    }\n",
       "\n",
       "    .dataframe thead th {\n",
       "        text-align: right;\n",
       "    }\n",
       "</style>\n",
       "<table border=\"1\" class=\"dataframe\">\n",
       "  <thead>\n",
       "    <tr style=\"text-align: right;\">\n",
       "      <th></th>\n",
       "      <th>neighborhoods</th>\n",
       "      <th>popDense</th>\n",
       "    </tr>\n",
       "  </thead>\n",
       "  <tbody>\n",
       "    <tr>\n",
       "      <th>1</th>\n",
       "      <td>Chateau</td>\n",
       "      <td>28.7</td>\n",
       "    </tr>\n",
       "    <tr>\n",
       "      <th>2</th>\n",
       "      <td>South Shore</td>\n",
       "      <td>89.6</td>\n",
       "    </tr>\n",
       "    <tr>\n",
       "      <th>3</th>\n",
       "      <td>Hays</td>\n",
       "      <td>206.9</td>\n",
       "    </tr>\n",
       "    <tr>\n",
       "      <th>4</th>\n",
       "      <td>St. Clair</td>\n",
       "      <td>674.2</td>\n",
       "    </tr>\n",
       "    <tr>\n",
       "      <th>5</th>\n",
       "      <td>North Shore</td>\n",
       "      <td>1000.0</td>\n",
       "    </tr>\n",
       "    <tr>\n",
       "      <th>...</th>\n",
       "      <td>...</td>\n",
       "      <td>...</td>\n",
       "    </tr>\n",
       "    <tr>\n",
       "      <th>86</th>\n",
       "      <td>Shadyside</td>\n",
       "      <td>15108.6</td>\n",
       "    </tr>\n",
       "    <tr>\n",
       "      <th>87</th>\n",
       "      <td>Friendship</td>\n",
       "      <td>16839.6</td>\n",
       "    </tr>\n",
       "    <tr>\n",
       "      <th>88</th>\n",
       "      <td>Bluff</td>\n",
       "      <td>20183.5</td>\n",
       "    </tr>\n",
       "    <tr>\n",
       "      <th>89</th>\n",
       "      <td>North Oakland</td>\n",
       "      <td>21144.3</td>\n",
       "    </tr>\n",
       "    <tr>\n",
       "      <th>90</th>\n",
       "      <td>Central Oakland</td>\n",
       "      <td>21658.4</td>\n",
       "    </tr>\n",
       "  </tbody>\n",
       "</table>\n",
       "<p>90 rows × 2 columns</p>\n",
       "</div>"
      ],
      "text/plain": [
       "      neighborhoods  popDense\n",
       "1           Chateau      28.7\n",
       "2       South Shore      89.6\n",
       "3              Hays     206.9\n",
       "4         St. Clair     674.2\n",
       "5       North Shore    1000.0\n",
       "..              ...       ...\n",
       "86        Shadyside   15108.6\n",
       "87       Friendship   16839.6\n",
       "88            Bluff   20183.5\n",
       "89    North Oakland   21144.3\n",
       "90  Central Oakland   21658.4\n",
       "\n",
       "[90 rows x 2 columns]"
      ]
     },
     "execution_count": 18,
     "metadata": {},
     "output_type": "execute_result"
    }
   ],
   "source": [
    "# Reading in Population data\n",
    "pop = pd.read_csv(\"population-density.csv\")\n",
    "neighborhoods = []\n",
    "popul = []\n",
    "dict = {}\n",
    "for each in pop['Neighborhood'].unique():\n",
    "    neighborhoods.append(each)\n",
    "for index, row in pop.iterrows():\n",
    "    dict[row['Neighborhood']] = float(row[\"Persons / sq. mi (2010)\"].replace(\",\", \"\"))\n",
    "for neighbor in dict:\n",
    "    popul.append(dict[neighbor])\n",
    "dict2 = {}\n",
    "dict2[\"neighborhoods\"] = neighborhoods\n",
    "dict2[\"popDense\"] = popul\n",
    "pop_df = pd.DataFrame(dict2)\n",
    "pop_df = pop_df.sort_values(by='popDense', ascending=True)\n",
    "# Fixing Indexes\n",
    "pop_df = pop_df.reset_index()\n",
    "pop_df.index += 1\n",
    "pop_df = pop_df.drop(columns = [\"index\"])\n",
    "pop_df"
   ]
  },
  {
   "cell_type": "markdown",
   "metadata": {},
   "source": [
    "Now we visualize the 15 places with the lowest population density and the 15 with the highest.\n"
   ]
  },
  {
   "cell_type": "code",
   "execution_count": 37,
   "metadata": {},
   "outputs": [
    {
     "data": {
      "text/plain": [
       "<matplotlib.axes._subplots.AxesSubplot at 0x7f83ba4ceb70>"
      ]
     },
     "execution_count": 37,
     "metadata": {},
     "output_type": "execute_result"
    },
    {
     "data": {
      "image/png": "[encoded data removed]",
      "text/plain": [
       "<Figure size 432x288 with 1 Axes>"
      ]
     },
     "metadata": {
      "needs_background": "light"
     },
     "output_type": "display_data"
    },
    {
     "data": {
      "image/png": "[encoded data removed]",
      "text/plain": [
       "<Figure size 432x288 with 1 Axes>"
      ]
     },
     "metadata": {
      "needs_background": "light"
     },
     "output_type": "display_data"
    }
   ],
   "source": [
    "pop_df.head(15).plot(kind = 'bar', x = 'neighborhoods', y = 'popDense')\n",
    "pop_df.tail(15).plot(kind = \"bar\", x = \"neighborhoods\", y = \"popDense\")"
   ]
  },
  {
   "cell_type": "markdown",
   "metadata": {},
   "source": [
    "As we can see, North and Central Oakland are the most dense. Ha, we're there most of the time"
   ]
  },
  {
   "cell_type": "markdown",
   "metadata": {},
   "source": [
    "So, we have collected, filtered, analyzed, and visualized data for our three metrics that we are judging neighborhoods by. We want a low crime rate, a lot of greenery and a safe haven for infectious diseases.\n"
   ]
  },
  {
   "cell_type": "markdown",
   "metadata": {},
   "source": [
    "### Putting it all together\n",
    "So, we are going to use a formula(that we made) that is used by us to implement a ranking or a scoring value to each data point that we have collected. This defines what we prioritized in our data and and outputs a final score for each neighborhood. Each neighborhood gets a base rating of zero, and depending on its performance compared to the others, it can get marked up or down.\n",
    "\n",
    "In our formula, we gave green space and population density a slightly higher weight than crime rates because the former usually implies the latter."
   ]
  },
  {
   "cell_type": "code",
   "execution_count": 30,
   "metadata": {},
   "outputs": [
    {
     "data": {
      "text/html": [
       "<div>\n",
       "<style scoped>\n",
       "    .dataframe tbody tr th:only-of-type {\n",
       "        vertical-align: middle;\n",
       "    }\n",
       "\n",
       "    .dataframe tbody tr th {\n",
       "        vertical-align: top;\n",
       "    }\n",
       "\n",
       "    .dataframe thead th {\n",
       "        text-align: right;\n",
       "    }\n",
       "</style>\n",
       "<table border=\"1\" class=\"dataframe\">\n",
       "  <thead>\n",
       "    <tr style=\"text-align: right;\">\n",
       "      <th></th>\n",
       "      <th>Neighborhood</th>\n",
       "      <th>Number of Crimes</th>\n",
       "      <th>Crime Score</th>\n",
       "    </tr>\n",
       "  </thead>\n",
       "  <tbody>\n",
       "    <tr>\n",
       "      <th>1</th>\n",
       "      <td>Mt. Oliver Neighborhood</td>\n",
       "      <td>2</td>\n",
       "      <td>81.044444</td>\n",
       "    </tr>\n",
       "    <tr>\n",
       "      <th>2</th>\n",
       "      <td>Troy Hill-Herrs Island</td>\n",
       "      <td>6</td>\n",
       "      <td>80.244444</td>\n",
       "    </tr>\n",
       "    <tr>\n",
       "      <th>3</th>\n",
       "      <td>Mt. Oliver Boro</td>\n",
       "      <td>14</td>\n",
       "      <td>78.644444</td>\n",
       "    </tr>\n",
       "    <tr>\n",
       "      <th>4</th>\n",
       "      <td>Ridgemont</td>\n",
       "      <td>15</td>\n",
       "      <td>78.444444</td>\n",
       "    </tr>\n",
       "    <tr>\n",
       "      <th>5</th>\n",
       "      <td>Regent Square</td>\n",
       "      <td>21</td>\n",
       "      <td>77.244444</td>\n",
       "    </tr>\n",
       "    <tr>\n",
       "      <th>...</th>\n",
       "      <td>...</td>\n",
       "      <td>...</td>\n",
       "      <td>...</td>\n",
       "    </tr>\n",
       "    <tr>\n",
       "      <th>95</th>\n",
       "      <td>East Allegheny</td>\n",
       "      <td>1400</td>\n",
       "      <td>-198.555556</td>\n",
       "    </tr>\n",
       "    <tr>\n",
       "      <th>96</th>\n",
       "      <td>Carrick</td>\n",
       "      <td>1484</td>\n",
       "      <td>-215.355556</td>\n",
       "    </tr>\n",
       "    <tr>\n",
       "      <th>97</th>\n",
       "      <td>NaN</td>\n",
       "      <td>1509</td>\n",
       "      <td>-220.355556</td>\n",
       "    </tr>\n",
       "    <tr>\n",
       "      <th>98</th>\n",
       "      <td>South Side Flats</td>\n",
       "      <td>2149</td>\n",
       "      <td>-348.355556</td>\n",
       "    </tr>\n",
       "    <tr>\n",
       "      <th>99</th>\n",
       "      <td>Central Business District</td>\n",
       "      <td>2396</td>\n",
       "      <td>-397.755556</td>\n",
       "    </tr>\n",
       "  </tbody>\n",
       "</table>\n",
       "<p>99 rows × 3 columns</p>\n",
       "</div>"
      ],
      "text/plain": [
       "                 Neighborhood  Number of Crimes  Crime Score\n",
       "1     Mt. Oliver Neighborhood                 2    81.044444\n",
       "2      Troy Hill-Herrs Island                 6    80.244444\n",
       "3             Mt. Oliver Boro                14    78.644444\n",
       "4                   Ridgemont                15    78.444444\n",
       "5               Regent Square                21    77.244444\n",
       "..                        ...               ...          ...\n",
       "95             East Allegheny              1400  -198.555556\n",
       "96                    Carrick              1484  -215.355556\n",
       "97                        NaN              1509  -220.355556\n",
       "98           South Side Flats              2149  -348.355556\n",
       "99  Central Business District              2396  -397.755556\n",
       "\n",
       "[99 rows x 3 columns]"
      ]
     },
     "execution_count": 30,
     "metadata": {},
     "output_type": "execute_result"
    }
   ],
   "source": [
    "# going through the three dataframes and assigning them the magic value \n",
    "crime_score = []\n",
    "for crime in crime_df['Number of Crimes']:\n",
    "    crime_score.append(-1/5 *( crime - crime_df['Number of Crimes'].mean()))\n",
    "crime_df['Crime Score'] = crime_score\n",
    "crime_df"
   ]
  },
  {
   "cell_type": "code",
   "execution_count": 31,
   "metadata": {},
   "outputs": [
    {
     "data": {
      "text/html": [
       "<div>\n",
       "<style scoped>\n",
       "    .dataframe tbody tr th:only-of-type {\n",
       "        vertical-align: middle;\n",
       "    }\n",
       "\n",
       "    .dataframe tbody tr th {\n",
       "        vertical-align: top;\n",
       "    }\n",
       "\n",
       "    .dataframe thead th {\n",
       "        text-align: right;\n",
       "    }\n",
       "</style>\n",
       "<table border=\"1\" class=\"dataframe\">\n",
       "  <thead>\n",
       "    <tr style=\"text-align: right;\">\n",
       "      <th></th>\n",
       "      <th>neighborhoods</th>\n",
       "      <th>numberTrees</th>\n",
       "      <th>Tree Score</th>\n",
       "    </tr>\n",
       "  </thead>\n",
       "  <tbody>\n",
       "    <tr>\n",
       "      <th>1</th>\n",
       "      <td>Squirrel Hill South</td>\n",
       "      <td>5073</td>\n",
       "      <td>228.540659</td>\n",
       "    </tr>\n",
       "    <tr>\n",
       "      <th>2</th>\n",
       "      <td>Highland Park</td>\n",
       "      <td>2941</td>\n",
       "      <td>121.940659</td>\n",
       "    </tr>\n",
       "    <tr>\n",
       "      <th>3</th>\n",
       "      <td>Squirrel Hill North</td>\n",
       "      <td>2079</td>\n",
       "      <td>78.840659</td>\n",
       "    </tr>\n",
       "    <tr>\n",
       "      <th>4</th>\n",
       "      <td>South Side Flats</td>\n",
       "      <td>1693</td>\n",
       "      <td>59.540659</td>\n",
       "    </tr>\n",
       "    <tr>\n",
       "      <th>5</th>\n",
       "      <td>Shadyside</td>\n",
       "      <td>1558</td>\n",
       "      <td>52.790659</td>\n",
       "    </tr>\n",
       "    <tr>\n",
       "      <th>...</th>\n",
       "      <td>...</td>\n",
       "      <td>...</td>\n",
       "      <td>...</td>\n",
       "    </tr>\n",
       "    <tr>\n",
       "      <th>87</th>\n",
       "      <td>Arlington Heights</td>\n",
       "      <td>5</td>\n",
       "      <td>-24.859341</td>\n",
       "    </tr>\n",
       "    <tr>\n",
       "      <th>88</th>\n",
       "      <td>Esplen</td>\n",
       "      <td>3</td>\n",
       "      <td>-24.959341</td>\n",
       "    </tr>\n",
       "    <tr>\n",
       "      <th>89</th>\n",
       "      <td>South Shore</td>\n",
       "      <td>2</td>\n",
       "      <td>-25.009341</td>\n",
       "    </tr>\n",
       "    <tr>\n",
       "      <th>90</th>\n",
       "      <td>Glen Hazel</td>\n",
       "      <td>2</td>\n",
       "      <td>-25.009341</td>\n",
       "    </tr>\n",
       "    <tr>\n",
       "      <th>91</th>\n",
       "      <td>Hays</td>\n",
       "      <td>1</td>\n",
       "      <td>-25.059341</td>\n",
       "    </tr>\n",
       "  </tbody>\n",
       "</table>\n",
       "<p>91 rows × 3 columns</p>\n",
       "</div>"
      ],
      "text/plain": [
       "          neighborhoods  numberTrees  Tree Score\n",
       "1   Squirrel Hill South         5073  228.540659\n",
       "2         Highland Park         2941  121.940659\n",
       "3   Squirrel Hill North         2079   78.840659\n",
       "4      South Side Flats         1693   59.540659\n",
       "5             Shadyside         1558   52.790659\n",
       "..                  ...          ...         ...\n",
       "87    Arlington Heights            5  -24.859341\n",
       "88               Esplen            3  -24.959341\n",
       "89          South Shore            2  -25.009341\n",
       "90           Glen Hazel            2  -25.009341\n",
       "91                 Hays            1  -25.059341\n",
       "\n",
       "[91 rows x 3 columns]"
      ]
     },
     "execution_count": 31,
     "metadata": {},
     "output_type": "execute_result"
    }
   ],
   "source": [
    "tree_score = []\n",
    "for tree in trees_df['numberTrees']:\n",
    "    tree_score.append(1/20 *( tree - trees_df['numberTrees'].mean()))\n",
    "trees_df['Tree Score'] = tree_score\n",
    "trees_df"
   ]
  },
  {
   "cell_type": "code",
   "execution_count": 32,
   "metadata": {},
   "outputs": [
    {
     "data": {
      "text/html": [
       "<div>\n",
       "<style scoped>\n",
       "    .dataframe tbody tr th:only-of-type {\n",
       "        vertical-align: middle;\n",
       "    }\n",
       "\n",
       "    .dataframe tbody tr th {\n",
       "        vertical-align: top;\n",
       "    }\n",
       "\n",
       "    .dataframe thead th {\n",
       "        text-align: right;\n",
       "    }\n",
       "</style>\n",
       "<table border=\"1\" class=\"dataframe\">\n",
       "  <thead>\n",
       "    <tr style=\"text-align: right;\">\n",
       "      <th></th>\n",
       "      <th>neighborhoods</th>\n",
       "      <th>popDense</th>\n",
       "      <th>Pop Score</th>\n",
       "    </tr>\n",
       "  </thead>\n",
       "  <tbody>\n",
       "    <tr>\n",
       "      <th>1</th>\n",
       "      <td>Chateau</td>\n",
       "      <td>28.7</td>\n",
       "      <td>96.629352</td>\n",
       "    </tr>\n",
       "    <tr>\n",
       "      <th>2</th>\n",
       "      <td>South Shore</td>\n",
       "      <td>89.6</td>\n",
       "      <td>95.614352</td>\n",
       "    </tr>\n",
       "    <tr>\n",
       "      <th>3</th>\n",
       "      <td>Hays</td>\n",
       "      <td>206.9</td>\n",
       "      <td>93.659352</td>\n",
       "    </tr>\n",
       "    <tr>\n",
       "      <th>4</th>\n",
       "      <td>St. Clair</td>\n",
       "      <td>674.2</td>\n",
       "      <td>85.871019</td>\n",
       "    </tr>\n",
       "    <tr>\n",
       "      <th>5</th>\n",
       "      <td>North Shore</td>\n",
       "      <td>1000.0</td>\n",
       "      <td>80.441019</td>\n",
       "    </tr>\n",
       "    <tr>\n",
       "      <th>...</th>\n",
       "      <td>...</td>\n",
       "      <td>...</td>\n",
       "      <td>...</td>\n",
       "    </tr>\n",
       "    <tr>\n",
       "      <th>86</th>\n",
       "      <td>Shadyside</td>\n",
       "      <td>15108.6</td>\n",
       "      <td>-154.702315</td>\n",
       "    </tr>\n",
       "    <tr>\n",
       "      <th>87</th>\n",
       "      <td>Friendship</td>\n",
       "      <td>16839.6</td>\n",
       "      <td>-183.552315</td>\n",
       "    </tr>\n",
       "    <tr>\n",
       "      <th>88</th>\n",
       "      <td>Bluff</td>\n",
       "      <td>20183.5</td>\n",
       "      <td>-239.283981</td>\n",
       "    </tr>\n",
       "    <tr>\n",
       "      <th>89</th>\n",
       "      <td>North Oakland</td>\n",
       "      <td>21144.3</td>\n",
       "      <td>-255.297315</td>\n",
       "    </tr>\n",
       "    <tr>\n",
       "      <th>90</th>\n",
       "      <td>Central Oakland</td>\n",
       "      <td>21658.4</td>\n",
       "      <td>-263.865648</td>\n",
       "    </tr>\n",
       "  </tbody>\n",
       "</table>\n",
       "<p>90 rows × 3 columns</p>\n",
       "</div>"
      ],
      "text/plain": [
       "      neighborhoods  popDense   Pop Score\n",
       "1           Chateau      28.7   96.629352\n",
       "2       South Shore      89.6   95.614352\n",
       "3              Hays     206.9   93.659352\n",
       "4         St. Clair     674.2   85.871019\n",
       "5       North Shore    1000.0   80.441019\n",
       "..              ...       ...         ...\n",
       "86        Shadyside   15108.6 -154.702315\n",
       "87       Friendship   16839.6 -183.552315\n",
       "88            Bluff   20183.5 -239.283981\n",
       "89    North Oakland   21144.3 -255.297315\n",
       "90  Central Oakland   21658.4 -263.865648\n",
       "\n",
       "[90 rows x 3 columns]"
      ]
     },
     "execution_count": 32,
     "metadata": {},
     "output_type": "execute_result"
    }
   ],
   "source": [
    "pop_score = []\n",
    "for pop in pop_df['popDense']:\n",
    "    pop_score.append(-1/60 *( pop - pop_df['popDense'].mean()))\n",
    "pop_df['Pop Score'] = pop_score\n",
    "pop_df"
   ]
  },
  {
   "cell_type": "code",
   "execution_count": 33,
   "metadata": {},
   "outputs": [
    {
     "data": {
      "text/html": [
       "<div>\n",
       "<style scoped>\n",
       "    .dataframe tbody tr th:only-of-type {\n",
       "        vertical-align: middle;\n",
       "    }\n",
       "\n",
       "    .dataframe tbody tr th {\n",
       "        vertical-align: top;\n",
       "    }\n",
       "\n",
       "    .dataframe thead th {\n",
       "        text-align: right;\n",
       "    }\n",
       "</style>\n",
       "<table border=\"1\" class=\"dataframe\">\n",
       "  <thead>\n",
       "    <tr style=\"text-align: right;\">\n",
       "      <th></th>\n",
       "      <th>Neighborhood</th>\n",
       "      <th>Total Score</th>\n",
       "    </tr>\n",
       "  </thead>\n",
       "  <tbody>\n",
       "    <tr>\n",
       "      <th>1</th>\n",
       "      <td>Squirrel Hill South</td>\n",
       "      <td>212.407789</td>\n",
       "    </tr>\n",
       "    <tr>\n",
       "      <th>2</th>\n",
       "      <td>Highland Park</td>\n",
       "      <td>143.247789</td>\n",
       "    </tr>\n",
       "    <tr>\n",
       "      <th>3</th>\n",
       "      <td>Hays</td>\n",
       "      <td>137.044456</td>\n",
       "    </tr>\n",
       "    <tr>\n",
       "      <th>4</th>\n",
       "      <td>New Homestead</td>\n",
       "      <td>137.011122</td>\n",
       "    </tr>\n",
       "    <tr>\n",
       "      <th>5</th>\n",
       "      <td>St. Clair</td>\n",
       "      <td>136.406122</td>\n",
       "    </tr>\n",
       "    <tr>\n",
       "      <th>...</th>\n",
       "      <td>...</td>\n",
       "      <td>...</td>\n",
       "    </tr>\n",
       "    <tr>\n",
       "      <th>96</th>\n",
       "      <td>Central Oakland</td>\n",
       "      <td>-256.730544</td>\n",
       "    </tr>\n",
       "    <tr>\n",
       "      <th>97</th>\n",
       "      <td>East Allegheny</td>\n",
       "      <td>-257.853878</td>\n",
       "    </tr>\n",
       "    <tr>\n",
       "      <th>98</th>\n",
       "      <td>South Side Flats</td>\n",
       "      <td>-309.175544</td>\n",
       "    </tr>\n",
       "    <tr>\n",
       "      <th>99</th>\n",
       "      <td>Bluff</td>\n",
       "      <td>-347.048878</td>\n",
       "    </tr>\n",
       "    <tr>\n",
       "      <th>100</th>\n",
       "      <td>Central Business District</td>\n",
       "      <td>-370.162211</td>\n",
       "    </tr>\n",
       "  </tbody>\n",
       "</table>\n",
       "<p>100 rows × 2 columns</p>\n",
       "</div>"
      ],
      "text/plain": [
       "                  Neighborhood  Total Score\n",
       "1          Squirrel Hill South   212.407789\n",
       "2                Highland Park   143.247789\n",
       "3                         Hays   137.044456\n",
       "4                New Homestead   137.011122\n",
       "5                    St. Clair   136.406122\n",
       "..                         ...          ...\n",
       "96             Central Oakland  -256.730544\n",
       "97              East Allegheny  -257.853878\n",
       "98            South Side Flats  -309.175544\n",
       "99                       Bluff  -347.048878\n",
       "100  Central Business District  -370.162211\n",
       "\n",
       "[100 rows x 2 columns]"
      ]
     },
     "execution_count": 33,
     "metadata": {},
     "output_type": "execute_result"
    }
   ],
   "source": [
    "# putting all of the scores into a dictionary and then into a dataframe\n",
    "scores_dict={}\n",
    "for index, row in crime_df.iterrows():\n",
    "    if row['Neighborhood'] not in scores_dict:\n",
    "        scores_dict[row['Neighborhood']] = row['Crime Score']\n",
    "    else:\n",
    "        scores_dict[row['Neighborhood']] += row['Crime Score']\n",
    "\n",
    "for index, row in trees_df.iterrows():\n",
    "    if row['neighborhoods'] not in scores_dict:\n",
    "        scores_dict[row['neighborhoods']] = row['Tree Score']\n",
    "    else:\n",
    "        scores_dict[row['neighborhoods']] += row['Tree Score']\n",
    "\n",
    "for index, row in pop_df.iterrows():\n",
    "    if row['neighborhoods'] not in scores_dict:\n",
    "        scores_dict[row['neighborhoods']] = row['Pop Score']\n",
    "    else:\n",
    "        scores_dict[row['neighborhoods']] += row['Pop Score']\n",
    "# creating the dataframe\n",
    "Final_df = pd.DataFrame(list(scores_dict.items()), columns=['Neighborhood', 'Total Score'])\n",
    "Final_df = Final_df.sort_values(by='Total Score', ascending=False)\n",
    "#Fixing the indexes\n",
    "Final_df.reset_index(inplace = True)\n",
    "Final_df.drop(columns='index')\n",
    "Final_df.index += 1\n",
    "Final_df.reindex()\n",
    "Final_df =Final_df.drop(columns='index')\n",
    "Final_df"
   ]
  },
  {
   "cell_type": "markdown",
   "metadata": {},
   "source": [
    "Alright, this is our final DataFrame! \n",
    "Which means, by our metrics, these neighborhoods are the best!\n"
   ]
  },
  {
   "cell_type": "code",
   "execution_count": 34,
   "metadata": {},
   "outputs": [
    {
     "data": {
      "text/plain": [
       "<matplotlib.axes._subplots.AxesSubplot at 0x7f83ba568fd0>"
      ]
     },
     "execution_count": 34,
     "metadata": {},
     "output_type": "execute_result"
    },
    {
     "data": {
      "image/png": "[encoded data removed]",
      "text/plain": [
       "<Figure size 432x288 with 1 Axes>"
      ]
     },
     "metadata": {
      "needs_background": "light"
     },
     "output_type": "display_data"
    }
   ],
   "source": [
    "Final_df.head(10).plot(kind='bar', x='Neighborhood', y='Total Score')"
   ]
  },
  {
   "cell_type": "markdown",
   "metadata": {},
   "source": [
    "### Inferences and Conclusion\n",
    "So, our data tells us that the neighborhoods with the highest scores did the best with respect to the metrics that we defined. For example, Squirrel Hill South is the most ideal neighborhood, Highland Park coming in second. The Central Business District porformed very poorly afgainst our metrics, proving that it is the least ideal place. For us, at least.\n",
    "\n",
    "To conclude, this has been a very fun and thought provoking project. We are quite curious how the addition of more data would affect our decison in picking our 'Ideal Neighborhood'.\n",
    "## For Now, Congrats Squirrel Hill!\n",
    "\n"
   ]
  }
 ],
 "metadata": {
  "kernelspec": {
   "display_name": "Python 3",
   "language": "python",
   "name": "python3"
  },
  "language_info": {
   "codemirror_mode": {
    "name": "ipython",
    "version": 3
   },
   "file_extension": ".py",
   "mimetype": "text/x-python",
   "name": "python",
   "nbconvert_exporter": "python",
   "pygments_lexer": "ipython3",
   "version": "3.6.7"
  }
 },
 "nbformat": 4,
 "nbformat_minor": 4
}
